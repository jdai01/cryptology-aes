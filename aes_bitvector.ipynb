{
 "cells": [
  {
   "cell_type": "code",
   "execution_count": 89,
   "id": "a7fd3c6e",
   "metadata": {},
   "outputs": [],
   "source": [
    "IRRED_POLY = 0x11B\n",
    "\n",
    "# GF Multiplication\n",
    "def gf_mult(a, b):\n",
    "    result = 0\n",
    "    for i in range(8):\n",
    "        if b & 1:\n",
    "            result ^= a\n",
    "        a <<= 1\n",
    "        if a & 0x100:\n",
    "            a ^= IRRED_POLY\n",
    "        b >>= 1\n",
    "    return result & 0xFF  # Ensure the result is within 0x00 to 0xFF\n",
    "\n",
    "# Generate elements of GF(2^8)\n",
    "def generate_gf2_8(primitive_element):\n",
    "    field = [0]  # Start with 0\n",
    "    element = primitive_element\n",
    "\n",
    "    for _ in range(1, 256):\n",
    "        field.append(element)\n",
    "        element = gf_mult(element, primitive_element)\n",
    "\n",
    "    return field\n",
    "\n",
    "gfp2 = generate_gf2_8(2)\n",
    "gfp3 = generate_gf2_8(3)"
   ]
  },
  {
   "cell_type": "markdown",
   "id": "a0fdb34a",
   "metadata": {},
   "source": [
    "# SubByte Transformation"
   ]
  },
  {
   "cell_type": "code",
   "execution_count": 1,
   "id": "6cc27558",
   "metadata": {},
   "outputs": [],
   "source": [
    "from BitVector import *\n",
    "import numpy as np\n",
    "\n",
    "def gen_sbox():\n",
    "    irred_poly = BitVector(bitstring='100011011') # irreducible polynomial\n",
    "    subBytesTable = [] \n",
    "\n",
    "    c = BitVector(bitstring='01100011')\n",
    "\n",
    "    for i in range(0, 256):\n",
    "        # Get \n",
    "        b = BitVector(intVal = i, size=8)\n",
    "\n",
    "        # GF(2) Inverse\n",
    "        b = b.gf_MI(irred_poly, 8) if i != 0 else BitVector(intVal=0)\n",
    "\n",
    "        # Affine mapping\n",
    "        b1,b2,b3,b4 = [b.deep_copy() for x in range(4)]\n",
    "        b ^= (b1 >> 4) ^ (b2 >> 5) ^ (b3 >> 6) ^ (b4 >> 7) ^ c\n",
    "\n",
    "        subBytesTable.append(int(b))\n",
    "    return subBytesTable"
   ]
  },
  {
   "cell_type": "code",
   "execution_count": 2,
   "id": "56c6067b",
   "metadata": {},
   "outputs": [],
   "source": [
    "sbox = gen_sbox()"
   ]
  },
  {
   "cell_type": "code",
   "execution_count": 92,
   "id": "f7100ded",
   "metadata": {},
   "outputs": [],
   "source": [
    "def SubBytes(state):\n",
    "    return [[sbox[byte] for byte in word] for word in state]"
   ]
  },
  {
   "cell_type": "markdown",
   "id": "6a94f6d5",
   "metadata": {},
   "source": [
    "# ShiftRow transformation"
   ]
  },
  {
   "cell_type": "code",
   "execution_count": 93,
   "id": "5a14db49",
   "metadata": {},
   "outputs": [],
   "source": [
    "def ShiftRows(state):\n",
    "    Nb = len(state)\n",
    "    n = [word[:] for word in state] # temp state\n",
    "    # print(n)\n",
    "\n",
    "    for i in range(Nb):\n",
    "        for j in range(4): # shift rows by i\n",
    "            n[i][j] = state[i][(i + j) % Nb]\n",
    "            # print((i + j) % Nb)\n",
    "\n",
    "    return n"
   ]
  },
  {
   "cell_type": "markdown",
   "id": "ac12ff76",
   "metadata": {},
   "source": [
    "# MixColumn transformation"
   ]
  },
  {
   "cell_type": "code",
   "execution_count": 94,
   "id": "1725c86d",
   "metadata": {},
   "outputs": [],
   "source": [
    "def MixColumns(state):\n",
    "    Nb = len(state)\n",
    "    n = [word[:] for word in state]\n",
    "\n",
    "    for i in range(Nb):\n",
    "        n[i][0] = (gfp2[state[i][0]] ^ gfp3[state[i][1]] ^ state[i][2] ^ state[i][3])\n",
    "        n[i][1] = (state[i][0] ^ gfp2[state[i][1]] ^ gfp3[state[i][2]] ^ state[i][3])\n",
    "        n[i][2] = (state[i][0] ^ state[i][1] ^ gfp2[state[i][2]] ^ gfp3[state[i][3]])\n",
    "        n[i][3] = (gfp3[state[i][0]] ^ state[i][1] ^ state[i][2] ^ gfp2[state[i][3]])\n",
    "\n",
    "    return n"
   ]
  },
  {
   "cell_type": "code",
   "execution_count": null,
   "id": "b49e570c",
   "metadata": {},
   "outputs": [
    {
     "name": "stdout",
     "output_type": "stream",
     "text": [
      "Original State:\n",
      "[[50, 136, 49, 224], [67, 90, 49, 55], [246, 48, 152, 7], [168, 141, 162, 52]]\n",
      "\n",
      "After ShiftRows:\n",
      "[[50, 136, 49, 224], [90, 49, 55, 67], [152, 7, 246, 48], [52, 168, 141, 162]]\n",
      "\n",
      "After MixColumns:\n",
      "[[1, 154, 99, 42], [235, 203, 30, 210], [170, 66, 180, 138], [172, 3, 7, 175]]\n"
     ]
    }
   ],
   "source": [
    "# --- Example Input ---\n",
    "input_bytes = [\n",
    "    0x32, 0x88, 0x31, 0xe0,\n",
    "    0x43, 0x5a, 0x31, 0x37,\n",
    "    0xf6, 0x30, 0x98, 0x07,\n",
    "    0xa8, 0x8d, 0xa2, 0x34\n",
    "]\n",
    "\n",
    "# Convert input to state matrix\n",
    "state = input_bytes\n",
    "print(\"Original State:\")\n",
    "print(state)\n",
    "\n",
    "# Apply ShiftRows\n",
    "shifted_state = ShiftRows(state)\n",
    "print(\"\\nAfter ShiftRows:\")\n",
    "print(shifted_state)\n",
    "\n",
    "# Apply MixColumns\n",
    "shifted_state = MixColumns(state)\n",
    "print(\"\\nAfter MixColumns:\")\n",
    "print(shifted_state)"
   ]
  }
 ],
 "metadata": {
  "kernelspec": {
   "display_name": "Python 3",
   "language": "python",
   "name": "python3"
  },
  "language_info": {
   "codemirror_mode": {
    "name": "ipython",
    "version": 3
   },
   "file_extension": ".py",
   "mimetype": "text/x-python",
   "name": "python",
   "nbconvert_exporter": "python",
   "pygments_lexer": "ipython3",
   "version": "3.12.0"
  }
 },
 "nbformat": 4,
 "nbformat_minor": 5
}
