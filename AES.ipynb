{
 "cells": [
  {
   "cell_type": "markdown",
   "id": "5a9340db",
   "metadata": {},
   "source": []
  },
  {
   "cell_type": "markdown",
   "id": "0fe1de87",
   "metadata": {},
   "source": [
    "Addition"
   ]
  },
  {
   "cell_type": "code",
   "execution_count": null,
   "id": "6d601059",
   "metadata": {},
   "outputs": [],
   "source": [
    "def bit_add(a, b):\n",
    "    return a ^ b"
   ]
  },
  {
   "cell_type": "markdown",
   "id": "635747e4",
   "metadata": {},
   "source": [
    "Multiplication"
   ]
  },
  {
   "cell_type": "code",
   "execution_count": 16,
   "id": "316c229a",
   "metadata": {},
   "outputs": [],
   "source": [
    "def bit_mul(a, b):\n",
    "    result = 0\n",
    "    while b > 0:\n",
    "        if b & 1:           # if the lowest bit of b is 1\n",
    "            result ^= a     # add the current a to result\n",
    "        a <<= 1             # multiply a by 2\n",
    "        b >>= 1             # divide b by 2 (move to next bit)\n",
    "    return result"
   ]
  },
  {
   "cell_type": "code",
   "execution_count": 21,
   "id": "0c35d577",
   "metadata": {},
   "outputs": [],
   "source": [
    "def bit_mod(a, n):\n",
    "    if n & (n - 1) == 0:  # Check if n is a power of 2\n",
    "        return a & (n - 1)  # Bitwise modulo for powers of 2\n",
    "    else:\n",
    "        return a % n         # Standard modulo for other values"
   ]
  },
  {
   "cell_type": "code",
   "execution_count": 22,
   "id": "8a29e097",
   "metadata": {},
   "outputs": [],
   "source": [
    "a = bit_mul(0x57, 0x83)\n",
    "b = bit_mod(a, 0x011B)"
   ]
  },
  {
   "cell_type": "code",
   "execution_count": 24,
   "id": "46e392b1",
   "metadata": {},
   "outputs": [
    {
     "data": {
      "text/plain": [
       "'0b1011100'"
      ]
     },
     "execution_count": 24,
     "metadata": {},
     "output_type": "execute_result"
    }
   ],
   "source": [
    "bin(b)"
   ]
  },
  {
   "cell_type": "markdown",
   "id": "cf15aca3",
   "metadata": {},
   "source": [
    "`SubBytes` transformation"
   ]
  },
  {
   "cell_type": "code",
   "execution_count": 13,
   "id": "06333551",
   "metadata": {},
   "outputs": [
    {
     "data": {
      "text/plain": [
       "'0b100011011'"
      ]
     },
     "execution_count": 13,
     "metadata": {},
     "output_type": "execute_result"
    }
   ],
   "source": [
    "MOD_POLY = 0x011B  # 100011011 in binary\n",
    "bin(MOD_POLY)"
   ]
  },
  {
   "cell_type": "code",
   "execution_count": null,
   "id": "b2c29cc5",
   "metadata": {},
   "outputs": [
    {
     "data": {
      "text/plain": [
       "True"
      ]
     },
     "execution_count": 7,
     "metadata": {},
     "output_type": "execute_result"
    }
   ],
   "source": [
    "def test():\n",
    "    assert bit_add(0x57, 0x83) == 0xd4, \"Addition failed: add(0x57, 0x83) should be 0xd4\""
   ]
  }
 ],
 "metadata": {
  "kernelspec": {
   "display_name": "Python 3",
   "language": "python",
   "name": "python3"
  },
  "language_info": {
   "codemirror_mode": {
    "name": "ipython",
    "version": 3
   },
   "file_extension": ".py",
   "mimetype": "text/x-python",
   "name": "python",
   "nbconvert_exporter": "python",
   "pygments_lexer": "ipython3",
   "version": "3.12.0"
  }
 },
 "nbformat": 4,
 "nbformat_minor": 5
}
