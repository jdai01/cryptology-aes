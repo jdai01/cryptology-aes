{
 "cells": [
  {
   "cell_type": "markdown",
   "id": "5a9340db",
   "metadata": {},
   "source": []
  },
  {
   "cell_type": "code",
   "execution_count": 5,
   "id": "f8e902a3",
   "metadata": {},
   "outputs": [],
   "source": [
    "import numpy as np\n",
    "\n",
    "class AES():\n",
    "\n",
    "    def __init__(self):\n",
    "        self.mod_poly = 0x011B\n",
    "\n",
    "    @staticmethod\n",
    "    def byte_to_bits(byte):\n",
    "        return np.array([(byte >> i) & 1 for i in reversed(range(8))], dtype=np.uint8)\n",
    "\n",
    "    @staticmethod\n",
    "    def bits_to_byte(bits):\n",
    "        return sum((bits[i] << (7 - i)) for i in range(8))\n",
    "\n",
    "    @staticmethod\n",
    "    def bit_add(a, b):\n",
    "        \"\"\"Bitwise Addition\"\"\"\n",
    "        return np.bitwise_xor(a, b)\n",
    "    \n",
    "    @staticmethod\n",
    "    def bit_mul(a, b):\n",
    "        \"\"\"Bitwise Multiplication\"\"\"\n",
    "        result = 0\n",
    "        while b > 0:\n",
    "            if b & 1:           # if the lowest bit of b is 1\n",
    "                result ^= a     # add the current a to result\n",
    "            a <<= 1             # multiply a by 2\n",
    "            b >>= 1             # divide b by 2 (move to next bit)\n",
    "        return result\n",
    "    \n",
    "    def bit_mod(self, poly):\n",
    "        \"\"\"Bitwise Polynomial Modulo\"\"\"\n",
    "        mod_poly = self.mod_poly\n",
    "\n",
    "        mod_len = mod_poly.bit_length()\n",
    "        while poly.bit_length() >= mod_len:\n",
    "            shift = poly.bit_length() - mod_len\n",
    "            poly ^= mod_poly << shift  # XOR to subtract mod_poly shifted\n",
    "        return poly\n",
    "    \n",
    "    def gf2_inverse(self, a):\n",
    "        \n",
    "        if a == 0:\n",
    "            return 0x00\n",
    "\n",
    "        u, v = a, self.mod_poly\n",
    "        g1, g2 = 1, 0\n",
    "\n",
    "        while u != 1:\n",
    "            j = u.bit_length() - v.bit_length()\n",
    "            if j < 0:\n",
    "                u, v = v, u\n",
    "                g1, g2 = g2, g1\n",
    "                j = -j\n",
    "            u ^= v << j\n",
    "            g1 ^= g2 << j\n",
    "\n",
    "        return self.bit_mod(g1)\n",
    "        \n",
    "    def affine_mapping(self, byte):\n",
    "        # Define the 8×8 binary matrix A\n",
    "        A = np.array([\n",
    "            [1, 0, 0, 0, 1, 1, 1, 1],\n",
    "            [1, 1, 0, 0, 0, 1, 1, 1],\n",
    "            [1, 1, 1, 0, 0, 0, 1, 1],\n",
    "            [1, 1, 1, 1, 0, 0, 0, 1],\n",
    "            [1, 1, 1, 1, 1, 0, 0, 0],\n",
    "            [0, 1, 1, 1, 1, 1, 0, 0],\n",
    "            [0, 0, 1, 1, 1, 1, 1, 0],\n",
    "            [0, 0, 0, 1, 1, 1, 1, 1]\n",
    "        ])\n",
    "\n",
    "        # Constant vector b\n",
    "        b = np.array([0, 1, 1, 0, 0, 0, 1, 1])\n",
    "\n",
    "        # Input byte as bit vector\n",
    "        x = self.byte_to_bits(byte)\n",
    "\n",
    "        # Perform affine transformation: y = A * x (mod 2) + b\n",
    "        result_bits = np.array([\n",
    "            np.bitwise_xor.reduce(A[i] & x) ^ b[i]\n",
    "            for i in range(8)\n",
    "        ], dtype=np.uint8)\n",
    "\n",
    "        return self.bits_to_byte(result_bits)\n",
    "\n",
    "    def SubBytes(self, byte):\n",
    "        b_prime = self.gf2_inverse(byte)\n",
    "        b = self.affine_mapping(b_prime)\n",
    "        return b\n",
    "\n",
    "    def test(self):\n",
    "        assert self.bit_add(0x57, 0x83) == 0xd4, \"Addition failed: 0x57 + 0x83 should be 0xd4\"\n",
    "        assert self.bit_mod(self.bit_mul(0x57, 0x83)) == 0xc1, \"Multiplication failed. 0x57 * 0x83 should be 0xc1\"\n",
    "\n",
    "        print(\"All tests passed\")\n"
   ]
  },
  {
   "cell_type": "code",
   "execution_count": 6,
   "id": "094ce29a",
   "metadata": {},
   "outputs": [
    {
     "name": "stdout",
     "output_type": "stream",
     "text": [
      "All tests passed\n"
     ]
    }
   ],
   "source": [
    "aes = AES()\n",
    "aes.test()"
   ]
  },
  {
   "cell_type": "code",
   "execution_count": 7,
   "id": "f56f5989",
   "metadata": {},
   "outputs": [
    {
     "data": {
      "text/plain": [
       "np.uint8(7)"
      ]
     },
     "execution_count": 7,
     "metadata": {},
     "output_type": "execute_result"
    }
   ],
   "source": [
    "aes.SubBytes(0xc2)"
   ]
  },
  {
   "cell_type": "code",
   "execution_count": 17,
   "id": "a7442818",
   "metadata": {},
   "outputs": [
    {
     "data": {
      "text/plain": [
       "'63'"
      ]
     },
     "execution_count": 17,
     "metadata": {},
     "output_type": "execute_result"
    }
   ],
   "source": [
    "from BitVector import *\n",
    "c = BitVector(bitstring='01100011')\n",
    "c.get_bitvector_in_hex()"
   ]
  },
  {
   "cell_type": "code",
   "execution_count": 15,
   "id": "d74ebf17",
   "metadata": {},
   "outputs": [
    {
     "data": {
      "text/plain": [
       "99"
      ]
     },
     "execution_count": 15,
     "metadata": {},
     "output_type": "execute_result"
    }
   ],
   "source": [
    "0b01100011"
   ]
  },
  {
   "cell_type": "markdown",
   "id": "2e50a505",
   "metadata": {},
   "source": [
    "# SubBytes\n",
    "https://engineering.purdue.edu/kak/compsec/NewLectures/Lecture8.pdf"
   ]
  }
 ],
 "metadata": {
  "kernelspec": {
   "display_name": "Python 3",
   "language": "python",
   "name": "python3"
  },
  "language_info": {
   "codemirror_mode": {
    "name": "ipython",
    "version": 3
   },
   "file_extension": ".py",
   "mimetype": "text/x-python",
   "name": "python",
   "nbconvert_exporter": "python",
   "pygments_lexer": "ipython3",
   "version": "3.12.0"
  }
 },
 "nbformat": 4,
 "nbformat_minor": 5
}
