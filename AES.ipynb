{
 "cells": [
  {
   "cell_type": "code",
   "execution_count": 94,
   "id": "d462eb95",
   "metadata": {},
   "outputs": [],
   "source": [
    "IRRED_POLY = 0x11B"
   ]
  },
  {
   "cell_type": "code",
   "execution_count": 95,
   "id": "069b473e",
   "metadata": {},
   "outputs": [],
   "source": [
    "import numpy as np"
   ]
  },
  {
   "cell_type": "markdown",
   "id": "ff0ef9f2",
   "metadata": {},
   "source": [
    "# Basic Functions"
   ]
  },
  {
   "cell_type": "code",
   "execution_count": 96,
   "id": "f1e69282",
   "metadata": {},
   "outputs": [],
   "source": [
    "def process_key(key, Nk=4):\n",
    "    try:\n",
    "        key = key.replace(\" \", \"\")\n",
    "        \n",
    "        # Convert hex string to list of integers\n",
    "        bytes_list = [int(key[i:i+2], 16) for i in range(0, len(key), 2)]\n",
    "\n",
    "        # Reshape into a (Nk, 4) NumPy array\n",
    "        return np.array(bytes_list).reshape((Nk, 4))\n",
    "    except:\n",
    "        print (\"Password must be hexadecimal.\")\n",
    "\n",
    "def process_input(input_text):\n",
    "    try:\n",
    "        return process_key(input_text).T\n",
    "\n",
    "    except Exception as e:\n",
    "        print(\"Input must be a 16-byte hexadecimal string.\")\n",
    "\n",
    "def bytes_to_word(bytes_list):\n",
    "    \"\"\"1 word = 2 * 4 bytes, 1 byte = 8 bits\"\"\"\n",
    "    if len(bytes_list) != 4:\n",
    "        raise Exception()\n",
    "\n",
    "    return (bytes_list[0] << 24) | (bytes_list[1] << 16) | (bytes_list[2] << 8) | bytes_list[3]\n",
    "\n",
    "def word_to_bytes(word):\n",
    "    return [\n",
    "        (word >> 24) & 0xFF,\n",
    "        (word >> 16) & 0xFF,\n",
    "        (word >> 8) & 0xFF,\n",
    "        word & 0xFF\n",
    "    ]"
   ]
  },
  {
   "cell_type": "markdown",
   "id": "ee59286e",
   "metadata": {},
   "source": [
    "# Mathematics"
   ]
  },
  {
   "cell_type": "code",
   "execution_count": 97,
   "id": "984e81a7",
   "metadata": {},
   "outputs": [],
   "source": [
    "# GF Multiplication\n",
    "def gf_mult(a, b):\n",
    "    result = 0\n",
    "    for i in range(8):\n",
    "        if b & 1:\n",
    "            result ^= a\n",
    "        a <<= 1\n",
    "        if a & 0x100:\n",
    "            a ^= IRRED_POLY\n",
    "        b >>= 1\n",
    "    return result & 0xFF  # Ensure the result is within 0x00 to 0xFF"
   ]
  },
  {
   "cell_type": "code",
   "execution_count": 98,
   "id": "373ef24a",
   "metadata": {},
   "outputs": [],
   "source": [
    "# Extension field multiplication - book Definition 4.3.4\n",
    "def generate_gf2_8(primitive_element):\n",
    "    field = [0]  # Start with 0\n",
    "    element = primitive_element\n",
    "\n",
    "    for _ in range(1, 256):\n",
    "        field.append(element)\n",
    "        element = gf_mult(element, primitive_element)\n",
    "\n",
    "    return field"
   ]
  },
  {
   "cell_type": "code",
   "execution_count": 99,
   "id": "a22235e1",
   "metadata": {},
   "outputs": [],
   "source": [
    "gfp2 = generate_gf2_8(2)\n",
    "gfp3 = generate_gf2_8(3)"
   ]
  },
  {
   "cell_type": "markdown",
   "id": "79ade742",
   "metadata": {},
   "source": [
    "# AES Functions"
   ]
  },
  {
   "cell_type": "markdown",
   "id": "18c83dfd",
   "metadata": {},
   "source": [
    "## SubByte Transformation"
   ]
  },
  {
   "cell_type": "code",
   "execution_count": 100,
   "id": "495cbb3f",
   "metadata": {},
   "outputs": [],
   "source": [
    "from BitVector import *\n",
    "\n",
    "def gen_sbox():\n",
    "    irred_poly = BitVector(bitstring='100011011') # irreducible polynomial\n",
    "    subBytesTable = [] \n",
    "\n",
    "    c = BitVector(bitstring='01100011')\n",
    "\n",
    "    for i in range(0, 256):\n",
    "        # Initialise bit \n",
    "        b = BitVector(intVal = i, size=8)\n",
    "\n",
    "        # GF(2) Inverse\n",
    "        b = b.gf_MI(irred_poly, 8) if i != 0 else BitVector(intVal=0)\n",
    "\n",
    "        # Affine mapping\n",
    "        b1,b2,b3,b4 = [b.deep_copy() for x in range(4)]\n",
    "        b ^= (b1 >> 4) ^ (b2 >> 5) ^ (b3 >> 6) ^ (b4 >> 7) ^ c\n",
    "\n",
    "        subBytesTable.append(int(b))\n",
    "    return subBytesTable"
   ]
  },
  {
   "cell_type": "code",
   "execution_count": 101,
   "id": "4b9ab752",
   "metadata": {},
   "outputs": [],
   "source": [
    "sbox = gen_sbox()"
   ]
  },
  {
   "cell_type": "code",
   "execution_count": 102,
   "id": "ced3c2d0",
   "metadata": {},
   "outputs": [],
   "source": [
    "def SubBytes(state):\n",
    "    return [[sbox[byte] for byte in word] for word in state]"
   ]
  },
  {
   "cell_type": "markdown",
   "id": "70dbe1f3",
   "metadata": {},
   "source": [
    "## ShiftRow transformation"
   ]
  },
  {
   "cell_type": "code",
   "execution_count": 103,
   "id": "fcb6293c",
   "metadata": {},
   "outputs": [],
   "source": [
    "def ShiftRows(state):\n",
    "    Nb = len(state)\n",
    "    n = [word[:] for word in state] # temp state\n",
    "\n",
    "    for i in range(Nb):\n",
    "        for j in range(4): # shift rows by i\n",
    "            n[i][j] = state[i][(i + j) % Nb]\n",
    "            # print((i + j) % Nb)\n",
    "\n",
    "    return n"
   ]
  },
  {
   "cell_type": "markdown",
   "id": "8cd853fc",
   "metadata": {},
   "source": [
    "# MixColumn transformation"
   ]
  },
  {
   "cell_type": "code",
   "execution_count": 104,
   "id": "476af10a",
   "metadata": {},
   "outputs": [],
   "source": [
    "def MixColumns(state):\n",
    "    Nb = len(state)\n",
    "    n = [[0] * Nb for _ in state]\n",
    "\n",
    "    for c in range(Nb):\n",
    "        s0 = state[0][c]\n",
    "        s1 = state[1][c]\n",
    "        s2 = state[2][c]\n",
    "        s3 = state[3][c]\n",
    "\n",
    "        n[0][c] = gf_mult(2, s0) ^ gf_mult(3, s1) ^ s2 ^ s3\n",
    "        n[1][c] = s0 ^ gf_mult(2, s1) ^ gf_mult(3, s2) ^ s3\n",
    "        n[2][c] = s0 ^ s1 ^ gf_mult(2, s2) ^ gf_mult(3, s3)\n",
    "        n[3][c] = gf_mult(3, s0) ^ s1 ^ s2 ^ gf_mult(2, s3)\n",
    "\n",
    "    return n"
   ]
  },
  {
   "cell_type": "markdown",
   "id": "77f5794d",
   "metadata": {},
   "source": [
    "## Key Expansion"
   ]
  },
  {
   "cell_type": "markdown",
   "id": "fd2161ef",
   "metadata": {},
   "source": [
    "### Generate RC value"
   ]
  },
  {
   "cell_type": "code",
   "execution_count": 105,
   "id": "bc877919",
   "metadata": {},
   "outputs": [],
   "source": [
    "def generate_rc_values(Nr=10):\n",
    "    rc = [0x01]\n",
    "    for _ in range(1, Nr):\n",
    "        rc.append(gf_mult(rc[-1], 0x02))\n",
    "    return rc\n",
    "\n",
    "rc_values = generate_rc_values()"
   ]
  },
  {
   "cell_type": "markdown",
   "id": "fe79829d",
   "metadata": {},
   "source": [
    "### g function"
   ]
  },
  {
   "cell_type": "code",
   "execution_count": 106,
   "id": "7712945b",
   "metadata": {},
   "outputs": [],
   "source": [
    "def g(word, rc):\n",
    "    bytes = word_to_bytes(word)\n",
    "    # Rotate left (RotWord)\n",
    "    bytes = bytes[1:] + bytes[:1]\n",
    "    # Substitute bytes (SubWord)\n",
    "    bytes = [sbox[byte] for byte in bytes]\n",
    "    # Add round constant (Rcon) - XOR\n",
    "    bytes[0] ^= rc\n",
    "    return bytes_to_word(bytes)"
   ]
  },
  {
   "cell_type": "code",
   "execution_count": 107,
   "id": "4a39118e",
   "metadata": {},
   "outputs": [],
   "source": [
    "def keyExpansion(key, Nb=4, Nk=4, Nr=10):\n",
    "    # Default AES-128\n",
    "\n",
    "    # Initialise first round of keys\n",
    "    w = [0] * (Nb + Nk * Nr)\n",
    "    for i in range(Nb):\n",
    "        w[i] = bytes_to_word(key[i])\n",
    "\n",
    "    # Calculate subsequent round of keys\n",
    "    for i in range(1, Nr+1):\n",
    "        for j in range(4):\n",
    "            if j == 0:\n",
    "                w[4*i] = w[4*(i-1)] ^ g(w[4*i-1], rc=rc_values[i-1])\n",
    "            else: \n",
    "                w[4*i + j] = w[4*i + j - 1] ^ w[4*(i-1) + j]\n",
    "\n",
    "    return w"
   ]
  },
  {
   "cell_type": "markdown",
   "id": "767415be",
   "metadata": {},
   "source": [
    "## AddKeyRound transformation"
   ]
  },
  {
   "cell_type": "code",
   "execution_count": 108,
   "id": "b88f8576",
   "metadata": {},
   "outputs": [],
   "source": [
    "def AddRoundKey(state, keys):\n",
    "    Nb = len(state)\n",
    "    s_ = [[None for j in range(4)] for i in range(Nb)]\n",
    "\n",
    "    k_ = [word_to_bytes(word) for word in keys]\n",
    "\n",
    "    for c in range(Nb):\n",
    "        for i in range(4):\n",
    "            s_[i][c] = state[i][c] ^ k_[c][i]\n",
    "\n",
    "    return s_"
   ]
  },
  {
   "cell_type": "markdown",
   "id": "50b0ac9e",
   "metadata": {},
   "source": [
    "# AES-128"
   ]
  },
  {
   "cell_type": "code",
   "execution_count": 109,
   "id": "1054cbfb",
   "metadata": {},
   "outputs": [],
   "source": [
    "# Variables for AES-128\n",
    "Nb = 4\n",
    "Nk = 128 / 32\n",
    "Nr = 10\n",
    "\n",
    "IRRED_POLY = 0x11B\n",
    "\n",
    "# Default\n",
    "sbox = gen_sbox()\n",
    "\n",
    "key = '2b 7e 15 16 28 ae d2 a6 ab f7 15 88 09 cf 4f 3c'\n",
    "input_str = '32 43 f6 a8 88 5a 30 8d 31 31 98 a2 e0 37 07 34'\n"
   ]
  },
  {
   "cell_type": "code",
   "execution_count": 110,
   "id": "54490bb2",
   "metadata": {},
   "outputs": [],
   "source": [
    "key = process_key(key)\n",
    "W = keyExpansion(key)"
   ]
  },
  {
   "cell_type": "code",
   "execution_count": 111,
   "id": "19a2e7c1",
   "metadata": {},
   "outputs": [],
   "source": [
    "block = process_input(input_str)"
   ]
  },
  {
   "cell_type": "code",
   "execution_count": 112,
   "id": "0fa5cdb2",
   "metadata": {},
   "outputs": [],
   "source": [
    "def print_state_hex(state):\n",
    "    for word in state:\n",
    "        for byte in word:\n",
    "            print(f\"{byte:02x}\", end=\" \")\n",
    "        print()"
   ]
  },
  {
   "cell_type": "code",
   "execution_count": 113,
   "id": "d6cdcccc",
   "metadata": {},
   "outputs": [
    {
     "name": "stdout",
     "output_type": "stream",
     "text": [
      "32 88 31 e0 \n",
      "43 5a 31 37 \n",
      "f6 30 98 07 \n",
      "a8 8d a2 34 \n"
     ]
    }
   ],
   "source": [
    "print_state_hex(block)"
   ]
  },
  {
   "cell_type": "code",
   "execution_count": 114,
   "id": "71a8ce6d",
   "metadata": {},
   "outputs": [
    {
     "name": "stdout",
     "output_type": "stream",
     "text": [
      "39 02 dc 19 \n",
      "25 dc 11 6a \n",
      "84 09 85 0b \n",
      "1d fb 97 32 \n"
     ]
    }
   ],
   "source": [
    "# Initial round\n",
    "block = AddRoundKey(block, W[:4])\n",
    "\n",
    "# Nr\n",
    "for r in range(1,Nr):\n",
    "    block = SubBytes(block)\n",
    "    block = ShiftRows(block)\n",
    "    block = MixColumns(block)\n",
    "    block = AddRoundKey(block, W[4*r : 4*r + 4])\n",
    "\n",
    "# Final round\n",
    "block = SubBytes(block)\n",
    "block = ShiftRows(block)\n",
    "block = AddRoundKey(block, W[-4:])\n",
    "\n",
    "print_state_hex(block)"
   ]
  }
 ],
 "metadata": {
  "kernelspec": {
   "display_name": "Python 3",
   "language": "python",
   "name": "python3"
  },
  "language_info": {
   "codemirror_mode": {
    "name": "ipython",
    "version": 3
   },
   "file_extension": ".py",
   "mimetype": "text/x-python",
   "name": "python",
   "nbconvert_exporter": "python",
   "pygments_lexer": "ipython3",
   "version": "3.12.0"
  }
 },
 "nbformat": 4,
 "nbformat_minor": 5
}
